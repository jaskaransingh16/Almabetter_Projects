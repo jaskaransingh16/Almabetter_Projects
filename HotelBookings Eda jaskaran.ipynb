{
  "cells": [
    {
      "cell_type": "markdown",
      "metadata": {
        "id": "vncDsAP0Gaoa"
      },
      "source": [
        "# **Project Name**    - Hotel Booking\n",
        "\n"
      ]
    },
    {
      "cell_type": "markdown",
      "metadata": {
        "id": "51wfBGhXrkWh"
      },
      "source": [
        "##### **Project Type**    - EDA\n",
        "##### **Contribution**    - Kushang Shah (Individual)"
      ]
    },
    {
      "cell_type": "markdown",
      "metadata": {
        "id": "FJNUwmbgGyua"
      },
      "source": [
        "# **Project Summary -**"
      ]
    },
    {
      "cell_type": "markdown",
      "metadata": {
        "id": "F6v_1wHtG2nS"
      },
      "source": [
        "## **Exploratory Data Analysis (EDA) Summary: Understanding Hotel Bookings**\n",
        "\n",
        "Exploratory Data Analysis (EDA) is a crucial step in the data analysis process, allowing us to understand the structure and patterns within our data. In this summary, we delve into an EDA conducted on hotel booking data, aiming to extract meaningful insights and trends.\n",
        "\n",
        "### **Dataset Overview:**\n",
        "The dataset comprises information about hotel bookings, including various attributes such as booking dates, customer demographics, booking channels, and reservation details. It encompasses both hotel types: resorts and city hotels.\n",
        "\n",
        "### **Data Exploration:**\n",
        "#### **Data Cleaning**: Initially, the data underwent cleaning procedures to handle missing values, outliers, and inconsistencies. This step ensured the dataset's integrity and reliability for analysis.\n",
        "#### **Descriptive Statistics**: Basic statistics such as mean, median, standard deviation, and quartiles were calculated for numerical features like booking lead time, stays in nights, and number of adults/children. This provided a snapshot of the central tendencies and spread of the data.\n",
        "#### **Distribution Analysis**: Histograms and density plots were employed to visualize the distribution of key variables, revealing insights into their skewness, multimodality, and outliers. For instance, booking lead time exhibited a right-skewed distribution, indicating a tendency towards shorter booking intervals.\n",
        "#### **Temporal Trends**: Time series analysis was conducted to explore temporal patterns in booking volumes over different months and years. This analysis uncovered seasonality effects, with peak booking periods occurring during certain months, possibly influenced by holidays or tourism seasons.\n",
        "#### **Segmentation Analysis**: Customer segmentation based on demographics (e.g., age, nationality) and booking characteristics (e.g., duration of stay, room type) was performed. This segmentation shed light on distinct booking behaviors among different customer groups, enabling targeted marketing strategies.\n",
        "\n",
        "\n",
        "### **Insights and Trends:**\n",
        "\n",
        "#### **Seasonal Variations**: The analysis revealed fluctuations in booking volumes across seasons, with summer and holiday seasons experiencing higher demand compared to off-peak periods. This insight can inform revenue management strategies and resource allocation.\n",
        "#### **Booking Channels**: Examination of booking channels (e.g., online travel agencies, direct bookings) unveiled the preferred platforms through which customers make reservations. Understanding channel preferences can guide marketing efforts and partnership decisions.\n",
        "#### **Cancellation Patterns**: Analysis of cancellation rates and reasons for cancellations provided insights into customer behavior and booking volatility. Factors influencing cancellations, such as flexibility in cancellation policies, can be optimized to minimize revenue loss.\n",
        "#### **Booking Lead Time**: Exploration of booking lead time distribution highlighted booking patterns, with implications for inventory management and pricing strategies. Shorter lead times may necessitate dynamic pricing mechanisms to capitalize on last-minute bookings.\n",
        "## **Conclusion**:\n",
        "Through comprehensive exploratory data analysis, valuable insights have been gleaned regarding hotel booking trends, customer behavior, and operational dynamics. These insights can inform strategic decision-making processes, ranging from revenue management to customer experience enhancement. Continued analysis and refinement of these findings will facilitate data-driven optimization of hotel operations and service delivery."
      ]
    },
    {
      "cell_type": "markdown",
      "metadata": {
        "id": "w6K7xa23Elo4"
      },
      "source": [
        "# **Links -**"
      ]
    },
    {
      "cell_type": "markdown",
      "metadata": {
        "id": "h1o69JH3Eqqn"
      },
      "source": [
        "#### **GitHub Link:** - [EDA Project - Hotel Booking](https://github.com/KushangShah/AlmaBetter-Projects/tree/main/Module%202%20Numerical%20Programming%20in%20Python/2.1.%20Exploratory%20Data%20Analysis)\n",
        "\n",
        "#### **NoteBook Link(colab):** - [EDA Project Notebook - Hotel Booking](https://drive.google.com/drive/folders/1fEWRRQ_sRAPVnAaM36EuD1hY2we3op2J?usp=sharing)\n",
        "\n",
        "#### **Video Link:** - [EDA Project Presentation - Hotel Booking](https://drive.google.com/file/d/1NBAS8wNU_dQXXmGZptDdgkV-fwYCcLLK/view?usp=sharing)"
      ]
    },
    {
      "cell_type": "markdown",
      "metadata": {
        "id": "yQaldy8SH6Dl"
      },
      "source": [
        "# **Problem Statement**\n"
      ]
    },
    {
      "cell_type": "markdown",
      "metadata": {
        "id": "DpeJGUA3kjGy"
      },
      "source": [
        "##### --> The primary objective is to gain comprehensive insights into the underlying **patterns**, **trends**, and **dynamics of the booking process.**\n",
        "\n",
        "##### 1. **Booking Patterns**: What typical booking patterns do we observe in terms of timing, duration, and seasonality?\n",
        "Do discernible trends or fluctuations exist in booking volumes over different time periods?\n",
        "\n",
        "##### 2. **Booking Dynamics**: What are the temporal trends in booking volumes and cancellation rates? Are there seasonal variations, and if so, how do they impact hotel occupancy and revenue?\n",
        "##### 3. **Customer Segmentation**: How can customers be segmented based on demographics, booking behaviors, and preferences? What are the characteristics of different customer segments, and how can tailored marketing strategies be developed to cater to their needs?\n",
        "##### 4. **Operational Efficiency**: What factors contribute to booking lead time, and how can inventory management and pricing strategies be optimized accordingly? Are there patterns in room type preferences, booking channels, and deposit types that influence operational efficiency?\n",
        "##### 5. **Revenue Management**: How do pricing dynamics, such as ADR and booking changes, impact revenue generation? What are the implications of special requests, car parking requirements, and meal preferences on revenue maximization?\n",
        "\n",
        "\n"
      ]
    },
    {
      "cell_type": "markdown",
      "metadata": {
        "id": "PH-0ReGfmX4f"
      },
      "source": [
        "#### **Define Your Business Objective?**"
      ]
    },
    {
      "cell_type": "markdown",
      "metadata": {
        "id": "PhDvGCAqmjP1"
      },
      "source": [
        "**Business Objective:**\n",
        "\n",
        "The primary business objective of conducting exploratory data analysis (EDA) on hotel bookings is to leverage data-driven insights to optimize revenue generation, enhance operational efficiency, and improve customer satisfaction within the hospitality industry. By delving into the dataset and extracting meaningful patterns and trends, the ultimate goal is to inform strategic decision-making processes and drive tangible outcomes for the hotel management.\n",
        "\n",
        "1. **Revenue Optimization:**\n",
        "   - Identify factors influencing revenue generation, such as pricing dynamics, booking patterns, and customer preferences.\n",
        "   - Utilize insights to implement dynamic pricing mechanisms, targeted promotions, and revenue management strategies.\n",
        "\n",
        "2. **Operational Efficiency:**\n",
        "   - Enhance resource allocation, inventory management, and staff scheduling based on demand patterns and booking trends.\n",
        "   - Optimize room allocation, booking channels, and distribution strategies to improve operational efficiency.\n",
        "   - Streamline processes to minimize booking lead time, reduce cancellations, and optimize room utilization.\n",
        "\n",
        "3. **Customer Satisfaction:**\n",
        "   - Understand customer preferences, behaviors, and satisfaction drivers to deliver personalized experiences.\n",
        "   - Segment customers based on demographics, booking behaviors, and preferences to tailor marketing efforts and services.\n",
        "   - Anticipate and fulfill customer needs, preferences, and special requests to enhance overall satisfaction and loyalty.\n",
        "\n",
        "4. **Risk Management and Decision Support:**\n",
        "   - Identify potential risks, such as overbooking, cancellations, and revenue volatility, and develop mitigation strategies.\n",
        "   - Provide decision support for strategic initiatives, investment opportunities, and expansion plans based on data-driven insights.\n",
        "   - Monitor key performance indicators (KPIs) and metrics to track progress, evaluate performance, and adapt strategies accordingly.\n",
        "\n",
        "Overall, the business objective of the EDA on hotel bookings is to leverage data analytics to drive strategic decision-making, optimize operations, and create value for both the hotel management and customers. By harnessing the power of data, the aim is to achieve sustainable growth, competitive advantage, and excellence in service delivery within the hospitality sector."
      ]
    },
    {
      "cell_type": "markdown",
      "metadata": {
        "id": "mDgbUHAGgjLW"
      },
      "source": [
        "# **General Guidelines** : -  "
      ]
    },
    {
      "cell_type": "markdown",
      "metadata": {
        "id": "ZrxVaUj-hHfC"
      },
      "source": [
        "1.   Well-structured, formatted, and commented code is required.\n",
        "2.   Exception Handling, Production Grade Code & Deployment Ready Code will be a plus. Those students will be awarded some additional credits.\n",
        "     \n",
        "     The additional credits will have advantages over other students during Star Student selection.\n",
        "       \n",
        "             [ Note: - Deployment Ready Code is defined as, the whole .ipynb notebook should be executable in one go\n",
        "                       without a single error logged. ]\n",
        "\n",
        "3.   Each and every logic should have proper comments.\n",
        "4. You may add as many number of charts you want. Make Sure for each and every chart the following format should be answered.\n",
        "        \n",
        "\n",
        "```\n",
        "# Chart visualization code\n",
        "```\n",
        "            \n",
        "\n",
        "*   Why did you pick the specific chart?\n",
        "*   What is/are the insight(s) found from the chart?\n",
        "* Will the gained insights help creating a positive business impact?\n",
        "Are there any insights that lead to negative growth? Justify with specific reason.\n",
        "\n",
        "5. You have to create at least 20 logical & meaningful charts having important insights.\n",
        "\n",
        "\n",
        "[ Hints : - Do the Vizualization in  a structured way while following \"UBM\" Rule.\n",
        "\n",
        "U - Univariate Analysis,\n",
        "\n",
        "B - Bivariate Analysis (Numerical - Categorical, Numerical - Numerical, Categorical - Categorical)\n",
        "\n",
        "M - Multivariate Analysis\n",
        " ]\n",
        "\n",
        "\n",
        "\n"
      ]
    },
    {
      "cell_type": "markdown",
      "metadata": {
        "id": "O_i_v8NEhb9l"
      },
      "source": [
        "# ***Let's Begin !***"
      ]
    },
    {
      "cell_type": "markdown",
      "metadata": {
        "id": "HhfV-JJviCcP"
      },
      "source": [
        "## ***1. Know Your Data***"
      ]
    },
    {
      "cell_type": "markdown",
      "metadata": {
        "id": "Y3lxredqlCYt"
      },
      "source": [
        "### Installing Import Libraries"
      ]
    },
    {
      "cell_type": "code",
      "execution_count": null,
      "metadata": {
        "id": "CybD0bEwELyJ"
      },
      "outputs": [],
      "source": [
        "!pip3 install numpy"
      ]
    },
    {
      "cell_type": "code",
      "execution_count": null,
      "metadata": {
        "id": "Y9wD6PYMELyJ"
      },
      "outputs": [],
      "source": [
        "!pip3 install pandas"
      ]
    },
    {
      "cell_type": "code",
      "execution_count": null,
      "metadata": {
        "id": "uzCat7n-ELyK"
      },
      "outputs": [],
      "source": [
        "!pip3 install matplotlib"
      ]
    },
    {
      "cell_type": "code",
      "execution_count": null,
      "metadata": {
        "id": "wkKMmss8ELyK"
      },
      "outputs": [],
      "source": [
        "!pip3 install seaborn"
      ]
    },
    {
      "cell_type": "code",
      "execution_count": null,
      "metadata": {
        "id": "LPwYuxmnELyK"
      },
      "outputs": [],
      "source": [
        "!pip3 install missingno"
      ]
    },
    {
      "cell_type": "markdown",
      "metadata": {
        "id": "-_4b_6x-ELyK"
      },
      "source": [
        "### Import Libraries"
      ]
    },
    {
      "cell_type": "code",
      "execution_count": null,
      "metadata": {
        "id": "M8Vqi-pPk-HR"
      },
      "outputs": [],
      "source": [
        "# Import Libraries\n",
        "import numpy as np\n",
        "import pandas as pd\n",
        "import matplotlib.pyplot as plt\n",
        "import seaborn as sns\n",
        "import missingno as msno"
      ]
    },
    {
      "cell_type": "markdown",
      "metadata": {
        "id": "3RnN4peoiCZX"
      },
      "source": [
        "### Dataset Loading"
      ]
    },
    {
      "cell_type": "code",
      "source": [
        "from google.colab import drive\n",
        "drive.mount('/content/drive')"
      ],
      "metadata": {
        "id": "ula4LAVzCRJE"
      },
      "execution_count": null,
      "outputs": []
    },
    {
      "cell_type": "code",
      "execution_count": null,
      "metadata": {
        "id": "Jscs55DRrkWk"
      },
      "outputs": [],
      "source": [
        "hb_df = pd.read_csv(\"/content/drive/MyDrive/Colab Notebooks/Cohort Paris/Module 2: Numerical Programming in Python/Capstone Project: Exploratory Data Analysis/Hotel_Bookings.csv\")"
      ]
    },
    {
      "cell_type": "markdown",
      "metadata": {
        "id": "x71ZqKXriCWQ"
      },
      "source": [
        "### Dataset First View"
      ]
    },
    {
      "cell_type": "code",
      "execution_count": null,
      "metadata": {
        "id": "LWNFOSvLl09H"
      },
      "outputs": [],
      "source": [
        "# Dataset First Look\n",
        "hb_df"
      ]
    },
    {
      "cell_type": "markdown",
      "metadata": {
        "id": "7hBIi_osiCS2"
      },
      "source": [
        "### Dataset Rows & Columns count"
      ]
    },
    {
      "cell_type": "code",
      "execution_count": null,
      "metadata": {
        "id": "Kllu7SJgmLij"
      },
      "outputs": [],
      "source": [
        "# Dataset Rows & Columns count\n",
        "hb_df.shape"
      ]
    },
    {
      "cell_type": "markdown",
      "metadata": {
        "id": "JlHwYmJAmNHm"
      },
      "source": [
        "### Dataset Information"
      ]
    },
    {
      "cell_type": "code",
      "execution_count": null,
      "metadata": {
        "id": "e9hRXRi6meOf"
      },
      "outputs": [],
      "source": [
        "# Dataset Info\n",
        "hb_df.info()"
      ]
    },
    {
      "cell_type": "markdown",
      "metadata": {
        "id": "35m5QtbWiB9F"
      },
      "source": [
        "#### Duplicate Values"
      ]
    },
    {
      "cell_type": "code",
      "execution_count": null,
      "metadata": {
        "id": "1sLdpKYkmox0"
      },
      "outputs": [],
      "source": [
        "# Dataset Duplicate Value Count\n",
        "hb_df[hb_df.duplicated()].count()"
      ]
    },
    {
      "cell_type": "code",
      "execution_count": null,
      "metadata": {
        "id": "h0mSjl-NVhV9"
      },
      "outputs": [],
      "source": [
        "# using drop_duplicates to get unique number of rows\n",
        "hb_df.drop_duplicates(inplace=True)\n",
        "unique_rows = hb_df.shape[0]\n",
        "unique_rows"
      ]
    },
    {
      "cell_type": "markdown",
      "metadata": {
        "id": "PoPl-ycgm1ru"
      },
      "source": [
        "#### Missing Values/Null Values"
      ]
    },
    {
      "cell_type": "code",
      "execution_count": null,
      "metadata": {
        "id": "ZMEbqD1MXcDu"
      },
      "outputs": [],
      "source": [
        "# Finding for null value in each column.\n",
        "hb_df.isna().sum().sort_values(ascending=False)[:6]"
      ]
    },
    {
      "cell_type": "code",
      "execution_count": null,
      "metadata": {
        "id": "I1d6eW4pX_1k",
        "collapsed": true
      },
      "outputs": [],
      "source": [
        "hb_df[\"company\"] = hb_df[\"company\"].fillna(0)\n",
        "hb_df[\"agent\"] = hb_df[\"agent\"].fillna(0)\n",
        "hb_df[\"country\"] = hb_df[\"country\"].fillna(\"others\")\n",
        "hb_df[\"children\"] = hb_df[\"children\"].fillna(0)\n"
      ]
    },
    {
      "cell_type": "code",
      "execution_count": null,
      "metadata": {
        "id": "nAHZt2AVZP0d"
      },
      "outputs": [],
      "source": [
        "# Missing values has been handled.\n",
        "hb_df.isna().sum().sort_values(ascending=False)"
      ]
    },
    {
      "cell_type": "markdown",
      "metadata": {
        "id": "H0kj-8xxnORC"
      },
      "source": [
        "### What did you know about your dataset?"
      ]
    },
    {
      "cell_type": "markdown",
      "metadata": {
        "id": "gfoNAAC-nUe_"
      },
      "source": [
        "Hotel booking dataset contained 119390 rows × 32 columns.\n",
        "and It has 87396 number of unique rows and 31994 same(duplicated) rows.\n",
        "\n",
        "Hotel booking Dataset had\n",
        "```\n",
        "company               82137\n",
        "agent                 12193\n",
        "country                 452\n",
        "children                  4\n",
        "```\n",
        "Numbers of null values paresent in them.\n",
        "\n",
        "\n",
        "\n",
        "Hotel Booking Dataset contain 32 columns with different data init such as,\n",
        "1. hotel: Name or identifier of the hotel(City or resort).\n",
        "2. is_canceled: Binary indicator if the booking was canceled (1) or not (0).\n",
        "3. lead_time: Number of days between the booking date and the arrival date.\n",
        "4. arrival_date_year: Year of arrival date.\n",
        "5. arrival_date_month: Month of arrival date.\n",
        "6. arrival_date_week_number: Week number of arrival date.\n",
        "7. arrival_date_day_of_month: Day of arrival date.\n",
        "8. stays_in_weekend_nights: Number of weekend nights (Saturday or Sunday) the guest stayed.\n",
        "9. stays_in_week_nights: Number of week nights (Monday to Friday) the guest stayed.\n",
        "10. adults: Number of adults.\n",
        "11. children: Number of children.\n",
        "12. babies: Number of babies.\n",
        "13. meal: Type of meal booked (e.g., BB for Bed & Breakfast).\n",
        "14. country: Country of origin of the guest.\n",
        "15. market_segment: Market segment designation (e.g., Online Travel Agents, Offline Travel Agents).\n",
        "16. distribution_channel: Booking distribution channel (e.g., Direct, Corporate).\n",
        "17. is_repeated_guest: Binary indicator if the guest is a repeated guest (1) or not (0).\n",
        "18. previous_cancellations: Number of previous cancellations by the guest.\n",
        "19. previous_bookings_not_canceled: Number of previous bookings not canceled by the guest.\n",
        "20. reserved_room_type: Type of room reserved.\n",
        "21. assigned_room_type: Type of room assigned to the guest.\n",
        "22. booking_changes: Number of changes made to the booking.\n",
        "23. deposit_type: Type of deposit made (e.g., No Deposit, Non Refund, Refundable).\n",
        "24. agent: ID of the travel agency that made the booking.\n",
        "25. company: ID of the company/entity that made the booking or is responsible for payment.\n",
        "26. days_in_waiting_list: Number of days the booking was in the waiting list before it was confirmed to the guest.\n",
        "27. customer_type: Type of booking (e.g., Contract, Group, Transient).\n",
        "28. adr: Average Daily Rate, the average rental income per paid occupied room in a given time period.\n",
        "29. required_car_parking_spaces: Number of car parking spaces requested by the guest.\n",
        "30. total_of_special_requests: Number of special requests made by the guest (e.g., twin bed, high floor).\n",
        "31. reservation_status: Reservation last status (e.g., Check-Out, Canceled).\n",
        "32. reservation_status_date: Date at which the last status was set.\n",
        "\n",
        "\n"
      ]
    },
    {
      "cell_type": "markdown",
      "metadata": {
        "id": "nA9Y7ga8ng1Z"
      },
      "source": [
        "## ***2. Understanding Your Variables***"
      ]
    },
    {
      "cell_type": "code",
      "execution_count": null,
      "metadata": {
        "id": "j7xfkqrt5Ag5"
      },
      "outputs": [],
      "source": [
        "# Dataset Columns\n",
        "hb_df.columns"
      ]
    },
    {
      "cell_type": "code",
      "execution_count": null,
      "metadata": {
        "id": "DnOaZdaE5Q5t"
      },
      "outputs": [],
      "source": [
        "# Dataset Describe\n",
        "hb_df.describe().round(2)"
      ]
    },
    {
      "cell_type": "markdown",
      "metadata": {
        "id": "PBTbrJXOngz2"
      },
      "source": [
        "### Variables Description"
      ]
    },
    {
      "cell_type": "markdown",
      "metadata": {
        "id": "aJV4KIxSnxay"
      },
      "source": [
        "- **is_canceled:**\n",
        "  - 27.49% of bookings were canceled on average.\n",
        "- **lead_time:**\n",
        "  - The average lead time is approximately 79.89 days, with a standard deviation of around 86.05 days.\n",
        "- **arrival_date_year:**\n",
        "  - Bookings span from 2015 to 2017.\n",
        "- **arrival_date_week_number and arrival_date_day_of_month:**\n",
        "  - These columns give the week number and day of the month of the arrival date, respectively.\n",
        "- **stays_in_weekend_nights and stays_in_week_nights:**\n",
        "  - On average, guests stay for approximately 1 weekend night and 2.63 week nights.\n",
        "- **adults, children, and babies:**\n",
        "  - Average numbers of adults, children, and babies per booking are provided.\n",
        "- **previous_cancellations and previous_bookings_not_canceled:**\n",
        "  - These columns indicate the number of previous cancellations and bookings not canceled by the guest.\n",
        "- **booking_changes:**\n",
        "  - On average, there are around 0.27 booking changes per booking.\n",
        "- **agent and company:**\n",
        "  - These seem to be identifiers for the travel agency and company, respectively, involved in the booking.\n",
        "- **days_in_waiting_list:**\n",
        "  - On average, bookings spent approximately 11 days in the waiting list before confirmation.\n",
        "- **adr (Average Daily Rate):**\n",
        "  - The average daily rate is around 106.34 units.\n",
        "- **required_car_parking_spaces and total_of_special_requests:**\n",
        "  - These columns provide average counts for requested car parking spaces and special requests per booking."
      ]
    },
    {
      "cell_type": "markdown",
      "metadata": {
        "id": "u3PMJOP6ngxN"
      },
      "source": [
        "### Check Unique Values for each variable."
      ]
    },
    {
      "cell_type": "code",
      "execution_count": null,
      "metadata": {
        "id": "9R7ikwMO_utl"
      },
      "outputs": [],
      "source": [
        "# Check Unique Values for each variable.\n",
        "for col in hb_df.columns:\n",
        "  print(f\"Unique values for {col}: {hb_df[col].unique()}\\n\")"
      ]
    },
    {
      "cell_type": "markdown",
      "metadata": {
        "id": "dauF4eBmngu3"
      },
      "source": [
        "## 3. ***Data Wrangling***"
      ]
    },
    {
      "cell_type": "markdown",
      "metadata": {
        "id": "bKJF3rekwFvQ"
      },
      "source": [
        "### Data Wrangling Code"
      ]
    },
    {
      "cell_type": "code",
      "execution_count": null,
      "metadata": {
        "id": "wskGtvrTA0e6"
      },
      "outputs": [],
      "source": [
        "hb_df.info()"
      ]
    },
    {
      "cell_type": "code",
      "execution_count": null,
      "metadata": {
        "id": "INWVHKnEDegX"
      },
      "outputs": [],
      "source": [
        "# Changing Data type of some columns\n",
        "hb_df[['children', 'company', 'agent']] = hb_df[['children', 'company', 'agent']].astype('int64')\n",
        "hb_df['reservation_status_date'] = pd.to_datetime(hb_df['reservation_status_date'], format='%Y-%m-%d')"
      ]
    },
    {
      "cell_type": "code",
      "execution_count": null,
      "metadata": {
        "id": "hTHBcPcdDrIX"
      },
      "outputs": [],
      "source": [
        "# Adding important columns for data vizualization\n",
        "\n",
        "# Adding total stays from weekend stays and weeek stays\n",
        "hb_df['total_stay'] = hb_df['stays_in_weekend_nights'] + hb_df['stays_in_week_nights']\n",
        "\n",
        "# Adding total people from adult children and babies\n",
        "hb_df['total_people'] = hb_df['adults'] + hb_df['children'] + hb_df['babies']"
      ]
    },
    {
      "cell_type": "code",
      "execution_count": null,
      "metadata": {
        "id": "Vm2cJbX21RJe"
      },
      "outputs": [],
      "source": [
        "hb_df[['total_stay', 'total_people']].head(), hb_df.columns, hb_df.info()"
      ]
    },
    {
      "cell_type": "markdown",
      "metadata": {
        "id": "MSa1f5Uengrz"
      },
      "source": [
        "### What all manipulations have you done and insights you found?"
      ]
    },
    {
      "cell_type": "markdown",
      "metadata": {
        "id": "LbyXE7I1olp8"
      },
      "source": [
        "#### 1. **data type**: Changing the data type of column to the right formate. chaning the children, company, agent column data type into int formate.\n",
        "\n",
        "#### 2. **Create new columns from exisiting one to gain more insight.**\n",
        "  - created total_stay column with the help of weekend stay and week stay columns. Giving us the insight of total days of stay regard less of week or weekend.\n",
        "    - By doing so i can usderstand the total number of stay for each room or hotel.\n",
        "  - created total_people columns with the combination of adults, children and babies. Which provide the The number of people stay.\n",
        "    - This gives the total number of people stayed at the room or hotel.\n",
        "    \n",
        "\n"
      ]
    },
    {
      "cell_type": "markdown",
      "metadata": {
        "id": "GF8Ens_Soomf"
      },
      "source": [
        "## ***4. Data Vizualization, Storytelling & Experimenting with charts : Understand the relationships between variables***"
      ]
    },
    {
      "cell_type": "code",
      "execution_count": null,
      "metadata": {
        "id": "1CI4Il3364Ep"
      },
      "outputs": [],
      "source": [
        "hb_df.info()"
      ]
    },
    {
      "cell_type": "markdown",
      "metadata": {
        "id": "0wOQAZs5pc--"
      },
      "source": [
        "#### Chart - 1"
      ]
    },
    {
      "cell_type": "code",
      "execution_count": null,
      "metadata": {
        "id": "7v_ESjsspbW7"
      },
      "outputs": [],
      "source": [
        "# Chart - 1 Count of Canceled vs. Not Canceled Bookings: Bar chart\n",
        "plt.figure(figsize=(8,6))\n",
        "sns.countplot(data=hb_df, x='is_canceled', hue='hotel')\n",
        "plt.xlabel('Booking cancellation status')\n",
        "plt.ylabel('count')\n",
        "plt.title('Count of Canceled Vs Not Canceled Booking')\n",
        "plt.show()"
      ]
    },
    {
      "cell_type": "markdown",
      "metadata": {
        "id": "K5QZ13OEpz2H"
      },
      "source": [
        "##### 1. Why did you pick the specific chart?"
      ]
    },
    {
      "cell_type": "markdown",
      "metadata": {
        "id": "XESiWehPqBRc"
      },
      "source": [
        "**I chose a countplot for the distribution of canceled vs. not canceled bookings because it provides a clear visual representation of the balance between the two categories. It's a straightforward way to compare the number of canceled bookings with the number of bookings that were not canceled.**"
      ]
    },
    {
      "cell_type": "markdown",
      "metadata": {
        "id": "lQ7QKXXCp7Bj"
      },
      "source": [
        "##### 2. What is/are the insight(s) found from the chart?"
      ]
    },
    {
      "cell_type": "markdown",
      "metadata": {
        "id": "C_j1G7yiqdRP"
      },
      "source": [
        "**From the chart, we can see the distribution of canceled and not canceled bookings. This helps in understanding the proportion of bookings that were canceled VS those that were not. For instance, if there are significantly more canceled bookings compared to non-canceled ones, it might indicate issues with booking management, customer satisfaction, or external factors impacting travel plans.**"
      ]
    },
    {
      "cell_type": "markdown",
      "metadata": {
        "id": "448CDAPjqfQr"
      },
      "source": [
        "##### 3. Will the gained insights help creating a positive business impact?\n",
        "Are there any insights that lead to negative growth? Justify with specific reason."
      ]
    },
    {
      "cell_type": "markdown",
      "metadata": {
        "id": "3cspy4FjqxJW"
      },
      "source": [
        "**The insights gained from this chart can indeed help in making informed business decisions. For example, if the number of canceled bookings is high, it might suggest a need to review cancellation policies, improve customer service, or implement strategies to reduce cancellations, such as offering flexible booking options or personalized incentives. However, if the number of canceled bookings is excessively low, it could indicate potential revenue loss due to underbooking or a lack of customer engagement. In this case, it might be necessary to analyze the reasons behind the low cancellation rate and take corrective actions to encourage more bookings without sacrificing revenue.**"
      ]
    },
    {
      "cell_type": "markdown",
      "metadata": {
        "id": "KSlN3yHqYklG"
      },
      "source": [
        "#### Chart - 2"
      ]
    },
    {
      "cell_type": "code",
      "execution_count": null,
      "metadata": {
        "id": "R4YgtaqtYklH"
      },
      "outputs": [],
      "source": [
        "# Chart - 2\n",
        "\n",
        "# Calculate the count of bookings for each hotel type\n",
        "hotel_counts = hb_df['hotel'].value_counts()\n",
        "\n",
        "# Create a pie chart\n",
        "plt.figure(figsize=(7, 5))\n",
        "plt.pie(hotel_counts, labels=hotel_counts.index, autopct='%1.1f%%', startangle=140)\n",
        "plt.title('Distribution of Hotel Types', size=19)\n",
        "plt.axis('equal')  # Equal aspect ratio ensures that pie is drawn as a circle.\n",
        "plt.show()"
      ]
    },
    {
      "cell_type": "markdown",
      "metadata": {
        "id": "t6dVpIINYklI"
      },
      "source": [
        "##### 1. Why did you pick the specific chart?"
      ]
    },
    {
      "cell_type": "markdown",
      "metadata": {
        "id": "5aaW0BYyYklI"
      },
      "source": [
        "I chose pie chart for distribution of **City Hotel V/S Resort Hotel**, Because it provides a clear visulisation of the relationship between two different categories."
      ]
    },
    {
      "cell_type": "markdown",
      "metadata": {
        "id": "ijmpgYnKYklI"
      },
      "source": [
        "##### 2. What is/are the insight(s) found from the chart?"
      ]
    },
    {
      "cell_type": "markdown",
      "metadata": {
        "id": "PSx9atu2YklI"
      },
      "source": [
        "From the pie chart, we can clearly see the preffered hotel distribution between City hotel or Resort hotel. This helps in understanding that, the portition of City hotel booking is more than the Resort hotel.<br>That means **customers book City hotel more than Resort hotel**."
      ]
    },
    {
      "cell_type": "markdown",
      "metadata": {
        "id": "-JiQyfWJYklI"
      },
      "source": [
        "##### 3. Will the gained insights help creating a positive business impact?\n",
        "Are there any insights that lead to negative growth? Justify with specific reason."
      ]
    },
    {
      "cell_type": "markdown",
      "metadata": {
        "id": "BcBbebzrYklV"
      },
      "source": [
        "The insights gained from this chart can indeed help in making informed business decisions. For example, if customer bookings are low, improvements could be made by offering flexible payment options, easy booking processes, hassle-free check-ins and check-outs, and customer-oriented amenities to generate healthy revenue.<br><br>Hotel's need to make sure that no over booking is done to avoide any unneccesary arguments."
      ]
    },
    {
      "cell_type": "markdown",
      "metadata": {
        "id": "EM7whBJCYoAo"
      },
      "source": [
        "#### Chart - 3"
      ]
    },
    {
      "cell_type": "code",
      "execution_count": null,
      "metadata": {
        "id": "t6GMdE67YoAp"
      },
      "outputs": [],
      "source": [
        "# Chart - 3 Hotel booking by top 10 country\n",
        "# take the first 10 country name\n",
        "top_countries = hb_df['country'].value_counts().head(10)\n",
        "\n",
        "# Plot the graph\n",
        "top_countries.plot(kind='bar', color='teal')\n",
        "plt.title('Top 10 Countries by Number of Bookings')\n",
        "plt.xlabel('Country')\n",
        "plt.ylabel('Number of Bookings')\n",
        "plt.show()"
      ]
    },
    {
      "cell_type": "markdown",
      "metadata": {
        "id": "fge-S5ZAYoAp"
      },
      "source": [
        "##### 1. Why did you pick the specific chart?"
      ]
    },
    {
      "cell_type": "markdown",
      "metadata": {
        "id": "5dBItgRVYoAp"
      },
      "source": [
        "I chose the **plot graph** because it provies clear visul of hotel booking by top 10 countries and total number of booking."
      ]
    },
    {
      "cell_type": "markdown",
      "metadata": {
        "id": "85gYPyotYoAp"
      },
      "source": [
        "##### 2. What is/are the insight(s) found from the chart?"
      ]
    },
    {
      "cell_type": "markdown",
      "metadata": {
        "id": "4jstXR6OYoAp"
      },
      "source": [
        "From the graph, I can see that the top 10 countries named<br>\n",
        "1. Portugal(PRT),\n",
        "2. Great Britain(GBR),\n",
        "3. France(FRA),\n",
        "4. Spain(ESP),\n",
        "5. Germany(DEU),\n",
        "6. Italy(ITA),\n",
        "7. Republic of Ireland(IRL),\n",
        "8. Belgium(BEL),\n",
        "9. Brazil(BRA),\n",
        "10. Netherlands(NLD)\n",
        "<br>\n",
        "\n",
        "**PRT has booked most of the hotels.**"
      ]
    },
    {
      "cell_type": "markdown",
      "metadata": {
        "id": "RoGjAbkUYoAp"
      },
      "source": [
        "##### 3. Will the gained insights help creating a positive business impact?\n",
        "Are there any insights that lead to negative growth? Justify with specific reason."
      ]
    },
    {
      "cell_type": "markdown",
      "metadata": {
        "id": "zfJ8IqMcYoAp"
      },
      "source": [
        "The insights gained from the chart can certainly help create a positive business impact. Knowing that Portugal (PRT) has the highest number of hotel bookings allows the business to focus marketing efforts and resources on this key market, potentially increasing revenue further. Additionally, understanding the distribution of bookings across the top 10 countries can help in tailoring services and promotions to match the preferences of customers from these regions.\n",
        "\n",
        "However, the insights could also indicate potential risks. For example, if the business is too reliant on bookings from a few countries, any economic downturn or travel restrictions in those countries could lead to negative growth. Diversifying the customer base and attracting bookings from other regions could mitigate this risk and ensure more stable growth."
      ]
    },
    {
      "cell_type": "markdown",
      "metadata": {
        "id": "4Of9eVA-YrdM"
      },
      "source": [
        "#### Chart - 4"
      ]
    },
    {
      "cell_type": "code",
      "execution_count": null,
      "metadata": {
        "id": "irlUoxc8YrdO"
      },
      "outputs": [],
      "source": [
        "# Chart - 4 Arrival Date Month Distribution\n",
        "\n",
        "# Set the graph\n",
        "plt.figure(figsize=(15, 5))\n",
        "\n",
        "# Draw the graph\n",
        "sns.countplot(data=hb_df, x='arrival_date_month', hue=\"hotel\")\n",
        "plt.xticks(rotation=45) # Rotate x label\n",
        "plt.xlabel('Arrival Date Month')\n",
        "plt.ylabel('Count')\n",
        "plt.title(\"Arrival Date Month Distribution\")\n",
        "plt.show()"
      ]
    },
    {
      "cell_type": "markdown",
      "metadata": {
        "id": "iky9q4vBYrdO"
      },
      "source": [
        "##### 1. Why did you pick the specific chart?"
      ]
    },
    {
      "cell_type": "markdown",
      "metadata": {
        "id": "aJRCwT6DYrdO"
      },
      "source": [
        "**I chose a grouped bar chart to visualize the distribution of bookings across different months while also considering the hotel type. This chart type allows for a comparison of booking counts between resort hotels and city hotels within each month, providing insights into any seasonal variations or differences in booking patterns between the two types of accommodations.**"
      ]
    },
    {
      "cell_type": "markdown",
      "metadata": {
        "id": "F6T5p64dYrdO"
      },
      "source": [
        "##### 2. What is/are the insight(s) found from the chart?"
      ]
    },
    {
      "cell_type": "markdown",
      "metadata": {
        "id": "Xx8WAJvtYrdO"
      },
      "source": [
        "**The grouped bar chart reveals the distribution of bookings across different months for both resort hotels and city hotels. Insights can be gleaned by examining patterns such as peak booking months, differences in booking behavior between hotel types during specific months, or any consistent trends in booking preferences throughout the year.**"
      ]
    },
    {
      "cell_type": "markdown",
      "metadata": {
        "id": "y-Ehk30pYrdP"
      },
      "source": [
        "##### 3. Will the gained insights help creating a positive business impact?\n",
        "Are there any insights that lead to negative growth? Justify with specific reason."
      ]
    },
    {
      "cell_type": "markdown",
      "metadata": {
        "id": "jLNxxz7MYrdP"
      },
      "source": [
        "**The insights gained from this chart can positively impact business strategies by informing decisions related to seasonal pricing, marketing campaigns, and resource allocation for each hotel type. For example, if the chart shows that resort hotels experience a surge in bookings during summer months, the business can implement targeted marketing promotions or adjust pricing strategies to capitalize on seasonal demand. However, if there are indications of negative growth, such as a decline in bookings for both hotel types during traditionally busy months, it may signal broader economic or industry-related challenges that require strategic adjustments to mitigate negative impacts and stimulate growth.**"
      ]
    },
    {
      "cell_type": "markdown",
      "metadata": {
        "id": "bamQiAODYuh1"
      },
      "source": [
        "#### Chart - 5"
      ]
    },
    {
      "cell_type": "code",
      "execution_count": null,
      "metadata": {
        "id": "TIJwrbroYuh3"
      },
      "outputs": [],
      "source": [
        "# Chart - 5 Week Number vs. Total Stay\n",
        "\n",
        "# Set graph\n",
        "plt.figure(figsize=(7,6))\n",
        "\n",
        "#Draw graph\n",
        "sns.countplot(x='reserved_room_type', hue='reserved_room_type', data=hb_df, palette='coolwarm', dodge=False)\n",
        "plt.title('Distribution of Reserved Room Types')\n",
        "plt.xlabel('Room Type')\n",
        "plt.ylabel('Number of Bookings')\n",
        "plt.legend([],[], frameon=False)  # Hide the legend\n",
        "plt.show()\n"
      ]
    },
    {
      "cell_type": "markdown",
      "metadata": {
        "id": "QHF8YVU7Yuh3"
      },
      "source": [
        "##### 1. Why did you pick the specific chart?"
      ]
    },
    {
      "cell_type": "markdown",
      "metadata": {
        "id": "dcxuIMRPYuh3"
      },
      "source": [
        "I chose a bar chart because it effectively displays the frequency of different categories, making it easy to compare the number of bookings across various reserved room types. Bar charts are simple, clear, and ideal for categorical data, allowing quick identification of the most and least popular room types."
      ]
    },
    {
      "cell_type": "markdown",
      "metadata": {
        "id": "GwzvFGzlYuh3"
      },
      "source": [
        "##### 2. What is/are the insight(s) found from the chart?"
      ]
    },
    {
      "cell_type": "markdown",
      "metadata": {
        "id": "uyqkiB8YYuh3"
      },
      "source": [
        "As shown in the bar chart reveals the most and least popular room types based on customer reservations. For example, if the chart shows a particular room type (e.g., \"Room Type A\") having significantly more bookings than others, this indicates that customers prefer this room type. Conversely, a room type with fewer bookings may suggest it's less desirable to customers."
      ]
    },
    {
      "cell_type": "markdown",
      "metadata": {
        "id": "qYpmQ266Yuh3"
      },
      "source": [
        "##### 3. Will the gained insights help creating a positive business impact?\n",
        "Are there any insights that lead to negative growth? Justify with specific reason."
      ]
    },
    {
      "cell_type": "markdown",
      "metadata": {
        "id": "_WtzZ_hCYuh4"
      },
      "source": [
        "Yes, the insights can help create a positive business impact. Understanding which room types are most popular allows the hotel to optimize pricing, availability, and marketing strategies. For example, the hotel might increase the price of highly demanded room types or offer promotions on less popular ones to balance occupancy and revenue.\n",
        "\n",
        "Insights might also indicate potential issues. For example, if a particular room type consistently shows low bookings, it might suggest customer dissatisfaction with that room type's amenities, location, or price. This could lead to negative growth if not addressed, as unsatisfied customers might choose competitors. Therefore, the hotel might need to investigate why certain room types are less popular and consider improvements or adjustments to better meet customer needs."
      ]
    },
    {
      "cell_type": "markdown",
      "metadata": {
        "id": "OH-pJp9IphqM"
      },
      "source": [
        "#### Chart - 6"
      ]
    },
    {
      "cell_type": "code",
      "execution_count": null,
      "metadata": {
        "id": "kuRf4wtuphqN"
      },
      "outputs": [],
      "source": [
        "# Chart - 6 Customer Type Distribution\n",
        "# get numbers of customer type\n",
        "customer_type = hb_df['customer_type'].value_counts()\n",
        "# print(customer_type)\n",
        "\n",
        "# Get the label and count for the pie chart\n",
        "customer_type_label = customer_type.index\n",
        "customer_type_size = customer_type.values\n",
        "# print(customer_type_label, customer_type_size)\n",
        "\n",
        "# create Pie chart\n",
        "plt.figure(figsize=(8, 6))\n",
        "plt.pie(customer_type_size, labels=customer_type_label, autopct='%1.1f%%')\n",
        "plt.title('customer Type Distribution')\n",
        "plt.axis('equal')\n",
        "plt.show()"
      ]
    },
    {
      "cell_type": "markdown",
      "metadata": {
        "id": "bbFf2-_FphqN"
      },
      "source": [
        "##### 1. Why did you pick the specific chart?"
      ]
    },
    {
      "cell_type": "markdown",
      "metadata": {
        "id": "loh7H2nzphqN"
      },
      "source": [
        "**I chose a pie chart because it effectively visualizes the distribution of different customer types as proportions of a whole. Each slice of the pie represents a customer type, and the size of each slice corresponds to the proportion of that customer type within the entire dataset. This type of chart is ideal for showcasing categorical data and comparing the relative sizes of different categories.**"
      ]
    },
    {
      "cell_type": "markdown",
      "metadata": {
        "id": "_ouA3fa0phqN"
      },
      "source": [
        "##### 2. What is/are the insight(s) found from the chart?"
      ]
    },
    {
      "cell_type": "markdown",
      "metadata": {
        "id": "VECbqPI7phqN"
      },
      "source": [
        "**from the pie chart it is clearly visible that transient type customer is more compare to the other different types of customers.**"
      ]
    },
    {
      "cell_type": "markdown",
      "metadata": {
        "id": "Seke61FWphqN"
      },
      "source": [
        "##### 3. Will the gained insights help creating a positive business impact?\n",
        "Are there any insights that lead to negative growth? Justify with specific reason."
      ]
    },
    {
      "cell_type": "markdown",
      "metadata": {
        "id": "DW4_bGpfphqN"
      },
      "source": [
        "**The insights gained from this chart can positively impact business strategies related to customer segmentation, marketing campaigns, and service offerings. For example, if the pie chart shows that a significant portion of bookings comes from a specific customer type (e.g., transient), the business can tailor its marketing efforts and services to better cater to the needs and preferences of that customer segment, potentially leading to increased customer satisfaction and loyalty. However, if there are indications of negative growth, such as a decline in bookings from high-value customer segments, it may signal a need to reassess marketing strategies, improve customer experiences, or introduce targeted promotions to regain lost customers and prevent further decline in revenue.**"
      ]
    },
    {
      "cell_type": "markdown",
      "metadata": {
        "id": "PIIx-8_IphqN"
      },
      "source": [
        "#### Chart - 7"
      ]
    },
    {
      "cell_type": "code",
      "execution_count": null,
      "metadata": {
        "id": "7zuF_sIkdeYy"
      },
      "outputs": [],
      "source": [
        "sns.countplot(x='reservation_status', data=hb_df, palette='bright', hue='hotel')\n",
        "plt.title(\"Reservation status\")\n",
        "plt.ylabel(\"Count\")\n",
        "plt.xlabel(\"Reservation status\")\n",
        "plt.show()"
      ]
    },
    {
      "cell_type": "code",
      "execution_count": null,
      "metadata": {
        "id": "lqAIGUfyphqO"
      },
      "outputs": [],
      "source": [
        "# Chart - 7 Market Segment Distribution\n",
        "\n",
        "# Geetting values from market aegment.\n",
        "market_segment = hb_df['market_segment'].value_counts()\n",
        "# market_segment\n",
        "\n",
        "# getting label and size or label and value to create pie chart\n",
        "label = market_segment.index\n",
        "size = market_segment.values\n",
        "# print(label, size)\n",
        "\n",
        "# Creating pie chart of market segment\n",
        "plt.figure(figsize=(10, 8))\n",
        "plt.pie(size, labels=label, autopct='%1.1f%%', startangle=190)\n",
        "plt.title(\"Market Segment Distribution\")\n",
        "plt.rcParams['font.size'] = 10\n",
        "plt.axis('equal')\n",
        "# create tiny boxy on center right on screen\n",
        "plt.legend(label, loc=\"center left\", bbox_to_anchor=(1, 0, 1, 1))\n",
        "plt.show()"
      ]
    },
    {
      "cell_type": "markdown",
      "metadata": {
        "id": "t27r6nlMphqO"
      },
      "source": [
        "##### 1. Why did you pick the specific chart?"
      ]
    },
    {
      "cell_type": "markdown",
      "metadata": {
        "id": "iv6ro40sphqO"
      },
      "source": [
        "**I chose pie chart to visualize the distribution of bookings across different market segments because it provides a clear representation of the proportion of bookings attributed to each segment. The simplicity of a pie chart makes it easy to understand and compare the relative sizes of different segments**"
      ]
    },
    {
      "cell_type": "markdown",
      "metadata": {
        "id": "r2jJGEOYphqO"
      },
      "source": [
        "##### 2. What is/are the insight(s) found from the chart?"
      ]
    },
    {
      "cell_type": "markdown",
      "metadata": {
        "id": "Po6ZPi4hphqO"
      },
      "source": [
        "**As graph reveals the distribution of bookings among various market segments. Insights can be gained by examining the relative proportions of each segment. For example, it may show that a significant portion of bookings comes from a particular segment, indicating the importance of targeting marketing efforts or tailoring services to meet the needs of that segment. Additionally, it can highlight any underrepresented segments that may warrant attention or investment to capture a larger share of the market**"
      ]
    },
    {
      "cell_type": "markdown",
      "metadata": {
        "id": "b0JNsNcRphqO"
      },
      "source": [
        "##### 3. Will the gained insights help creating a positive business impact?\n",
        "Are there any insights that lead to negative growth? Justify with specific reason."
      ]
    },
    {
      "cell_type": "markdown",
      "metadata": {
        "id": "xvSq8iUTphqO"
      },
      "source": [
        "**The insights gained from this chart can positively impact business strategies related to marketing, customer segmentation, and product/service offerings. For Example, if the pie chart indicates that a particular market segment accounts for a small portion of bookings, the business can focus on developing targeted marketing campaigns or special promotions to attract customers from that segment, potentially leading to increased revenue. Conversely, if there are indications of negative growth, such as a decline in bookings from key market segments, it may signal a need to reassess marketing strategies or address issues impacting customer satisfaction within those segments to prevent further decline and stimulate growth.**"
      ]
    },
    {
      "cell_type": "markdown",
      "metadata": {
        "id": "BZR9WyysphqO"
      },
      "source": [
        "#### Chart - 8"
      ]
    },
    {
      "cell_type": "code",
      "execution_count": null,
      "metadata": {
        "id": "TdPTWpAVphqO"
      },
      "outputs": [],
      "source": [
        "# Chart - 8 Distribution Channel Distribution\n",
        "\n",
        "# Getting value count from distribution_channel\n",
        "distribution_channel = hb_df['distribution_channel'].value_counts()\n",
        "# distribution_channel\n",
        "\n",
        "# getting label and size(value) from distribution_channel\n",
        "label = distribution_channel.index\n",
        "size = distribution_channel.values\n",
        "# print(size, label)\n",
        "\n",
        "# creating pie chart\n",
        "plt.figure(figsize=(12, 6))\n",
        "plt.pie(size, labels=label, autopct='%1.1f%%')\n",
        "plt.legend(label, loc=\"center left\", bbox_to_anchor=(1, 0, 1, 1)) # legent\n",
        "plt.title(\"Distribution Channel distribution\")\n",
        "plt.axis('equal')\n",
        "plt.show()"
      ]
    },
    {
      "cell_type": "markdown",
      "metadata": {
        "id": "jj7wYXLtphqO"
      },
      "source": [
        "##### 1. Why did you pick the specific chart?"
      ]
    },
    {
      "cell_type": "markdown",
      "metadata": {
        "id": "Ob8u6rCTphqO"
      },
      "source": [
        "**I chose a pie chart because it effectively displays the distribution of bookings across different distribution channels as proportions of a whole. This type of chart allows for easy comparison of the relative sizes of each distribution channel and provides a clear visual representation of their contributions to the overall booking volume.**"
      ]
    },
    {
      "cell_type": "markdown",
      "metadata": {
        "id": "eZrbJ2SmphqO"
      },
      "source": [
        "##### 2. What is/are the insight(s) found from the chart?"
      ]
    },
    {
      "cell_type": "markdown",
      "metadata": {
        "id": "q5hRd0vQ15DM"
      },
      "source": [
        "**from the pie chart, the insights I gain are. The booking of hotel through Travel Agents/TA/TO(Bookings made through traditional travel agencies) is most prominent and other contribute less to the overall booking volumne.**"
      ]
    },
    {
      "cell_type": "markdown",
      "metadata": {
        "id": "rFu4xreNphqO"
      },
      "source": [
        "##### 3. Will the gained insights help creating a positive business impact?\n",
        "Are there any insights that lead to negative growth? Justify with specific reason."
      ]
    },
    {
      "cell_type": "markdown",
      "metadata": {
        "id": "ey_0qi68phqO"
      },
      "source": [
        "**The insights gained from this chart can positively impact business strategies related to distribution channel management, marketing efforts, and revenue optimization. For example, if the pie chart shows that a significant portion of bookings comes from a particular distribution channel (e.g., online travel agencies), the business can focus on strengthening partnerships with these channels or investing more resources in targeted marketing campaigns to further leverage their reach and drive additional bookings. However, if there are indications of negative growth, such as a decline in bookings from key distribution channels or an overreliance on a single channel, it may signal a need to diversify distribution channels, enhance direct booking channels, or renegotiate terms with existing partners to mitigate risks and ensure sustainable growth.**"
      ]
    },
    {
      "cell_type": "markdown",
      "metadata": {
        "id": "YJ55k-q6phqO"
      },
      "source": [
        "#### Chart - 9"
      ]
    },
    {
      "cell_type": "code",
      "execution_count": null,
      "metadata": {
        "id": "B2aS4O1ophqO"
      },
      "outputs": [],
      "source": [
        "# Chart - 9 Cancellations by Distribution channel\n",
        "\n",
        "# Enter the number of canceled booked hotel\n",
        "cancellations_by_channel = hb_df.groupby(['distribution_channel', 'is_canceled']).size().unstack()\n",
        "\n",
        "# Draw Graph\n",
        "cancellations_by_channel.plot(kind='bar', stacked=True)\n",
        "plt.title('Cancellations by Distribution Channel')\n",
        "plt.ylabel('Number of Bookings')\n",
        "plt.xlabel('Distribution Channel')\n",
        "plt.xticks(rotation=45) # Rotate the\n",
        "plt.show()"
      ]
    },
    {
      "cell_type": "markdown",
      "metadata": {
        "id": "gCFgpxoyphqP"
      },
      "source": [
        "##### 1. Why did you pick the specific chart?"
      ]
    },
    {
      "cell_type": "markdown",
      "metadata": {
        "id": "TVxDimi2phqP"
      },
      "source": [
        "I chose stacked bar chart because it effectively displays the proportion of bookings that were canceled versus those that were not, broken down by each distribution channel. This type of chart is ideal for comparing the composition of different categories within a group, making it easier to see which distribution channels have higher or lower cancellation rates relative to their total bookings."
      ]
    },
    {
      "cell_type": "markdown",
      "metadata": {
        "id": "OVtJsKN_phqQ"
      },
      "source": [
        "##### 2. What is/are the insight(s) found from the chart?"
      ]
    },
    {
      "cell_type": "markdown",
      "metadata": {
        "id": "ngGi97qjphqQ"
      },
      "source": [
        "The stacked bar chart reveals how cancellations are distributed across different distribution channels. For example, if a particular channel (e.g., Online Travel Agents) shows a higher proportion of cancellations compared to other channels, it indicates that bookings through this channel are more likely to be canceled. Conversely, channels with lower cancellation proportions suggest more reliable bookings."
      ]
    },
    {
      "cell_type": "markdown",
      "metadata": {
        "id": "lssrdh5qphqQ"
      },
      "source": [
        "##### 3. Will the gained insights help creating a positive business impact?\n",
        "Are there any insights that lead to negative growth? Justify with specific reason."
      ]
    },
    {
      "cell_type": "markdown",
      "metadata": {
        "id": "tBpY5ekJphqQ"
      },
      "source": [
        "Yes, the insights can help create a positive business impact by identifying which distribution channels are most reliable and which are prone to cancellations. The hotel can use this information to negotiate better terms with high-cancellation channels, offer incentives to encourage bookings through more stable channels, or develop strategies to reduce cancellations (e.g., more flexible cancellation policies for certain channels).\n",
        "\n",
        "If not addressed, high cancellation rates through specific channels could lead to negative growth. For example, a high cancellation rate might indicate dissatisfaction among customers who book through a particular channel, possibly due to misleading information or poor user experience. This could damage the hotel's reputation and lead to a loss of future business. Addressing the root causes of these cancellations is crucial to prevent potential revenue loss and maintain customer satisfaction."
      ]
    },
    {
      "cell_type": "markdown",
      "metadata": {
        "id": "U2RJ9gkRphqQ"
      },
      "source": [
        "#### Chart - 10"
      ]
    },
    {
      "cell_type": "code",
      "execution_count": null,
      "metadata": {
        "id": "GM7a4YP4phqQ"
      },
      "outputs": [],
      "source": [
        "\n",
        "# Chart - 10 Deposit Type Distribution\n",
        "\n",
        "# Getting values from\n",
        "deposit_type = hb_df['deposit_type'].value_counts()\n",
        "# deposit_type\n",
        "\n",
        "#  geting label and value from deposit_type\n",
        "label = deposit_type.index\n",
        "size = deposit_type.values\n",
        "# print(size, label)\n",
        "\n",
        "# creating graph\n",
        "plt.pie(size, labels=label, autopct='%1.1f%%')\n",
        "\n",
        "# labeling\n",
        "plt.legend(label, loc='center left', bbox_to_anchor=(1, 0))\n",
        "plt.title('Deposit Type Distribution')\n",
        "plt.axis('equal')\n",
        "\n",
        "# show graph\n",
        "plt.show()"
      ]
    },
    {
      "cell_type": "markdown",
      "metadata": {
        "id": "1M8mcRywphqQ"
      },
      "source": [
        "##### 1. Why did you pick the specific chart?"
      ]
    },
    {
      "cell_type": "markdown",
      "metadata": {
        "id": "8agQvks0phqQ"
      },
      "source": [
        "**I selected a pie chart because it effectively visualizes the distribution of bookings across different deposit types as proportions of a whole. This type of chart allows for easy comparison of the relative sizes of each deposit type and provides a clear representation of their contributions to the overall booking volume.**"
      ]
    },
    {
      "cell_type": "markdown",
      "metadata": {
        "id": "tgIPom80phqQ"
      },
      "source": [
        "##### 2. What is/are the insight(s) found from the chart?"
      ]
    },
    {
      "cell_type": "markdown",
      "metadata": {
        "id": "Qp13pnNzphqQ"
      },
      "source": [
        "**The pie chart reveals the proportion of bookings attributed to each deposit type. By examining the chart, we can identify which deposit types are the most common and which ones are less frequently used. Additionally, we can compare the relative importance of different deposit types and assess their impact on the business.**"
      ]
    },
    {
      "cell_type": "markdown",
      "metadata": {
        "id": "JMzcOPDDphqR"
      },
      "source": [
        "##### 3. Will the gained insights help creating a positive business impact?\n",
        "Are there any insights that lead to negative growth? Justify with specific reason."
      ]
    },
    {
      "cell_type": "markdown",
      "metadata": {
        "id": "R4Ka1PC2phqR"
      },
      "source": [
        "**The insights gained from this chart can positively impact business strategies related to revenue management and customer acquisition. For example, if the pie chart shows that a significant portion of bookings are made with non-refundable deposits, the business can adjust pricing strategies or introduce incentives to encourage more bookings with refundable deposits, potentially increasing flexibility for guests and reducing cancellation rates. However, if there are indications of negative growth, such as a decline in bookings with refundable deposits, it may signal a need to reassess pricing strategies or address concerns related to booking policies to mitigate potential revenue loss and ensure sustainable growth.**"
      ]
    },
    {
      "cell_type": "markdown",
      "metadata": {
        "id": "x-EpHcCOp1ci"
      },
      "source": [
        "#### Chart - 11"
      ]
    },
    {
      "cell_type": "code",
      "execution_count": null,
      "metadata": {
        "id": "REPMG6V46fI4"
      },
      "outputs": [],
      "source": [
        "# Chart - 11 Average Daily Rate (ADR) Distribution\n",
        "# count the ADR\n",
        "avg_adr_by_hotel = hb_df.groupby('hotel')['adr'].mean()\n",
        "#Plot the graph\n",
        "avg_adr_by_hotel.plot(kind='bar', color='skyblue')\n",
        "plt.title('Average Daily Rate (ADR) by Hotel')\n",
        "plt.ylabel('Average ADR')\n",
        "plt.xlabel('Hotels')\n",
        "plt.xticks(rotation=0)  #Rotate x axis label\n",
        "plt.show()"
      ]
    },
    {
      "cell_type": "markdown",
      "metadata": {
        "id": "X_VqEhTip1ck"
      },
      "source": [
        "##### 1. Why did you pick the specific chart?"
      ]
    },
    {
      "cell_type": "markdown",
      "metadata": {
        "id": "-vsMzt_np1ck"
      },
      "source": [
        "The bar chart was chosen because it provides a clear and straightforward comparison of the average daily rate (ADR) between different hotels. This type of chart is ideal for comparing numerical values across categories (in this case, different hotels) and quickly identifying which hotel has the highest or lowest ADR."
      ]
    },
    {
      "cell_type": "markdown",
      "metadata": {
        "id": "8zGJKyg5p1ck"
      },
      "source": [
        "##### 2. What is/are the insight(s) found from the chart?"
      ]
    },
    {
      "cell_type": "markdown",
      "metadata": {
        "id": "ZYdMsrqVp1ck"
      },
      "source": [
        "The bar chart reveals the average daily rate (ADR) for each hotel, showing which hotel charges more on average for a room. For example, if one hotel has a significantly higher ADR than the others, it suggests that this hotel is positioned as a more premium option, potentially offering more luxurious amenities or being located in a more desirable area. Conversely, a lower ADR might indicate a more budget-friendly option or less demand."
      ]
    },
    {
      "cell_type": "markdown",
      "metadata": {
        "id": "PVzmfK_Ep1ck"
      },
      "source": [
        "##### 3. Will the gained insights help creating a positive business impact?\n",
        "Are there any insights that lead to negative growth? Justify with specific reason."
      ]
    },
    {
      "cell_type": "markdown",
      "metadata": {
        "id": "druuKYZpp1ck"
      },
      "source": [
        "Yes, the insights can help create a positive business impact. Understanding the ADR differences between hotels allows the hotel management to make informed pricing decisions, optimize revenue management strategies, and better position their properties in the market. For instance, if one hotel has a significantly higher ADR, the management can investigate what factors contribute to this and apply similar strategies to other hotels (e.g., improving amenities, targeting higher-income customers).\n",
        "\n",
        "If the ADR is too high relative to the perceived value or market conditions, it could lead to negative growth by driving customers to choose competitors with more competitive pricing. Similarly, if the ADR is too low, the hotel may not be maximizing its revenue potential, leading to underperformance. Balancing ADR with market demand and customer expectations is crucial to avoid these pitfalls and ensure sustainable growth."
      ]
    },
    {
      "cell_type": "markdown",
      "metadata": {
        "id": "n3dbpmDWp1ck"
      },
      "source": [
        "#### Chart - 12"
      ]
    },
    {
      "cell_type": "code",
      "execution_count": null,
      "metadata": {
        "id": "bwevp1tKp1ck"
      },
      "outputs": [],
      "source": [
        "# Chart - 12 Special Requests vs. Total Stay\n",
        "\n",
        "# screen setting\n",
        "plt.figure(figsize=(8,6))\n",
        "\n",
        "# creating graph\n",
        "sns.scatterplot(data=hb_df, y='total_stay', x='total_of_special_requests', hue='hotel', size='is_canceled')\n",
        "\n",
        "# labeling\n",
        "plt.title('Special Request V/S Total Stay')\n",
        "plt.xlabel(\"Total Number of Special Requests\")\n",
        "plt.ylabel(\"Total Stay\")\n",
        "plt.grid(True)\n",
        "\n",
        "# show graph\n",
        "plt.show()"
      ]
    },
    {
      "cell_type": "markdown",
      "metadata": {
        "id": "ylSl6qgtp1ck"
      },
      "source": [
        "##### 1. Why did you pick the specific chart?"
      ]
    },
    {
      "cell_type": "markdown",
      "metadata": {
        "id": "m2xqNkiQp1ck"
      },
      "source": [
        "**I chose a scatter plot because it effectively visualizes the relationship between two continuous variables: total special requests and total stay duration. Scatter plots are ideal for identifying patterns, trends, and potential correlations between variables, making them suitable for exploring the association between special requests and the length of stay.**"
      ]
    },
    {
      "cell_type": "markdown",
      "metadata": {
        "id": "ZWILFDl5p1ck"
      },
      "source": [
        "##### 2. What is/are the insight(s) found from the chart?"
      ]
    },
    {
      "cell_type": "markdown",
      "metadata": {
        "id": "x-lUsV2mp1ck"
      },
      "source": [
        "**The scatter plot reveals the distribution of data points representing the combination of total special requests and total stay duration for each booking. By examining the chart, we can identify any patterns or trends in the relationship between special requests and total stay. For example, we can observe whether there is a linear or nonlinear association between the two variables, whether there are clusters or outliers, and whether there is any correlation between them.**"
      ]
    },
    {
      "cell_type": "markdown",
      "metadata": {
        "id": "M7G43BXep1ck"
      },
      "source": [
        "##### 3. Will the gained insights help creating a positive business impact?\n",
        "Are there any insights that lead to negative growth? Justify with specific reason."
      ]
    },
    {
      "cell_type": "markdown",
      "metadata": {
        "id": "5wwDJXsLp1cl"
      },
      "source": [
        "**The insights gained from this scatter plot can positively impact business strategies related to customer service, guest satisfaction, and revenue optimization. For instance, if the scatter plot shows a positive correlation between total special requests and total stay duration, it suggests that guests with longer stays are more likely to make special requests. In such cases, the business can use this information to enhance the guest experience by proactively addressing their needs and preferences, potentially leading to increased satisfaction, loyalty, and positive word-of-mouth recommendations. However, if there are indications of negative growth, such as a weak or negative correlation between special requests and total stay, it may signal missed opportunities to capitalize on longer stays or potential dissatisfaction among guests with fewer special requests. In such cases, the business may need to reevaluate its service offerings, communication strategies, or pricing incentives to better align with guest expectations and maximize revenue potential.**"
      ]
    },
    {
      "cell_type": "markdown",
      "metadata": {
        "id": "Ag9LCva-p1cl"
      },
      "source": [
        "#### Chart - 13"
      ]
    },
    {
      "cell_type": "code",
      "execution_count": null,
      "metadata": {
        "id": "EUfxeq9-p1cl"
      },
      "outputs": [],
      "source": [
        "# Chart - 13 Meal type dustribution\n",
        "\n",
        "# draw graph\n",
        "plt.figure(figsize=(15, 5))\n",
        "hb_df['meal'].value_counts().plot(kind='pie', autopct='%1.1f%%', colors=sns.color_palette('pastel'))\n",
        "\n",
        "# labeling\n",
        "plt.legend(hb_df['meal'].value_counts().index, loc='center left', bbox_to_anchor=(1, 0))\n",
        "plt.title('Meal Type Distribution')\n",
        "plt.ylabel('')\n",
        "\n",
        "# show graph\n",
        "plt.show()"
      ]
    },
    {
      "cell_type": "markdown",
      "metadata": {
        "id": "E6MkPsBcp1cl"
      },
      "source": [
        "##### 1. Why did you pick the specific chart?"
      ]
    },
    {
      "cell_type": "markdown",
      "metadata": {
        "id": "V22bRsFWp1cl"
      },
      "source": [
        "**I chose a pie chart because it effectively visualizes the distribution of meal types chosen by customers as proportions of a whole. This type of chart allows for easy comparison of the relative sizes of each meal type category and provides a clear representation of their contributions to the overall meal choices.**"
      ]
    },
    {
      "cell_type": "markdown",
      "metadata": {
        "id": "2cELzS2fp1cl"
      },
      "source": [
        "##### 2. What is/are the insight(s) found from the chart?"
      ]
    },
    {
      "cell_type": "markdown",
      "metadata": {
        "id": "ozQPc2_Ip1cl"
      },
      "source": [
        "**The pie chart reveals the proportion of bookings attributed to each meal type category. By examining the chart, we can identify which meal types are the most popular among customers and which ones are less frequently chosen. Additionally, we can compare the relative importance of different meal types and assess their impact on customer satisfaction and preferences.**"
      ]
    },
    {
      "cell_type": "markdown",
      "metadata": {
        "id": "3MPXvC8up1cl"
      },
      "source": [
        "##### 3. Will the gained insights help creating a positive business impact?\n",
        "Are there any insights that lead to negative growth? Justify with specific reason."
      ]
    },
    {
      "cell_type": "markdown",
      "metadata": {
        "id": "GL8l1tdLp1cl"
      },
      "source": [
        "**The insights gained from this pie chart can positively impact business strategies related to dining options, menu planning, and customer satisfaction. For instance, if the pie chart shows that a significant portion of bookings opt for a particular meal type (e.g., breakfast included), the business can tailor its menu offerings, dining packages, and marketing efforts to better cater to customer preferences, potentially leading to increased satisfaction, loyalty, and positive reviews. However, if there are indications of negative growth, such as a decline in bookings for certain meal types or a lack of variety in menu options, it may signal missed opportunities to appeal to diverse customer preferences or dissatisfaction among guests with limited dining choices. In such cases, the business may need to review its menu offerings, explore opportunities to introduce new meal options or dining experiences, and solicit feedback from customers to address any concerns and enhance the dining experience to ensure positive business outcomes.**"
      ]
    },
    {
      "cell_type": "markdown",
      "metadata": {
        "id": "NC_X3p0fY2L0"
      },
      "source": [
        "#### Chart - 14 - Correlation Heatmap"
      ]
    },
    {
      "cell_type": "markdown",
      "metadata": {
        "id": "AnZItbix4slR"
      },
      "source": [
        "Lets find the correlation between the numerical data."
      ]
    },
    {
      "cell_type": "code",
      "execution_count": null,
      "metadata": {
        "id": "xyC9zolEZNRQ"
      },
      "outputs": [],
      "source": [
        "# Correlation Heatmap visualization code\n",
        "\n",
        "# Asscessing only numerical data\n",
        "numerical_data = hb_df.select_dtypes(include=['int64', 'float64'])\n",
        "# numerical_data.info()\n",
        "\n",
        "# Correlation Heatmap of numerical data\n",
        "corr_data = numerical_data.corr()\n",
        "# corr_data\n",
        "\n",
        "# draw graph\n",
        "plt.figure(figsize=(20, 10))\n",
        "sns.heatmap(corr_data, annot=True, cmap='coolwarm', linewidths=0.5)\n",
        "\n",
        "# labeling\n",
        "plt.title(\"Correlation Heatmap of Hotel Bookings\")\n",
        "\n",
        "# show graph\n",
        "plt.show()\n"
      ]
    },
    {
      "cell_type": "markdown",
      "metadata": {
        "id": "UV0SzAkaZNRQ"
      },
      "source": [
        "##### 1. Why did you pick the specific chart?"
      ]
    },
    {
      "cell_type": "markdown",
      "metadata": {
        "id": "DVPuT8LYZNRQ"
      },
      "source": [
        "**I chose a correlation heatmap because it provides a visual representation of the relationships between different numerical variables in the dataset. This type of chart allows for easy identification of patterns, trends, and potential correlations between variables, making it useful for exploring the underlying structure of the data and identifying key factors that may influence certain outcomes or behaviors.**"
      ]
    },
    {
      "cell_type": "markdown",
      "metadata": {
        "id": "YPEH6qLeZNRQ"
      },
      "source": [
        "##### 2. What is/are the insight(s) found from the chart?"
      ]
    },
    {
      "cell_type": "markdown",
      "metadata": {
        "id": "bfSqtnDqZNRR"
      },
      "source": [
        "**The correlation heatmap reveals the strength and direction of the relationships between pairs of numerical variables. By examining the heatmap, we can identify which variables are positively or negatively correlated with each other and the strength of these correlations. For example, if two variables have a high positive correlation coefficient (close to 1), it suggests that they tend to increase or decrease together, while a negative correlation coefficient (close to -1) indicates an inverse relationship. Additionally, we can identify variables that are highly correlated with the target variable, which may be important predictors or factors influencing the outcome of interest.**"
      ]
    },
    {
      "cell_type": "markdown",
      "metadata": {
        "id": "q29F0dvdveiT"
      },
      "source": [
        "#### Chart - 15 - Pair Plot"
      ]
    },
    {
      "cell_type": "code",
      "execution_count": null,
      "metadata": {
        "id": "o58-TEIhveiU"
      },
      "outputs": [],
      "source": [
        "# Pair Plot visualization code\n",
        "\n",
        "# for this as well, I'll use numerical_data\n",
        "# draw graph\n",
        "plt.figure(figsize=(19.8,19.8))\n",
        "sns.pairplot(numerical_data)\n",
        "\n",
        "# labeling\n",
        "plt.title('Pairwise Relastionship in Hotel Booking\\n')\n",
        "\n",
        "# show graph\n",
        "plt.show()"
      ]
    },
    {
      "cell_type": "markdown",
      "metadata": {
        "id": "EXh0U9oCveiU"
      },
      "source": [
        "##### 1. Why did you pick the specific chart?"
      ]
    },
    {
      "cell_type": "markdown",
      "metadata": {
        "id": "eMmPjTByveiU"
      },
      "source": [
        "**I chose a pair plot because it allows for the visualization of pairwise relationships between multiple numerical variables in the dataset. This type of chart is useful for identifying patterns, trends, and potential correlations between variables, making it suitable for exploring the overall structure and relationships within the data.**"
      ]
    },
    {
      "cell_type": "markdown",
      "metadata": {
        "id": "22aHeOlLveiV"
      },
      "source": [
        "##### 2. What is/are the insight(s) found from the chart?"
      ]
    },
    {
      "cell_type": "markdown",
      "metadata": {
        "id": "uPQ8RGwHveiV"
      },
      "source": [
        "**The pair plot provides a visual overview of the relationships between numerical variables by displaying scatterplots for each pair of variables and histograms along the diagonal. By examining the pair plot, we can identify any linear or nonlinear relationships between variables, as well as detect outliers or clusters in the data. Additionally, we can observe the distribution and spread of individual variables and assess whether any variables exhibit similar patterns or trends across different pairs. This can provide insights into the underlying data structure and help identify key variables that may influence certain outcomes or behaviors.**"
      ]
    },
    {
      "cell_type": "markdown",
      "metadata": {
        "id": "JcMwzZxoAimU"
      },
      "source": [
        "## **5. Solution to Business Objective**"
      ]
    },
    {
      "cell_type": "markdown",
      "metadata": {
        "id": "8G2x9gOozGDZ"
      },
      "source": [
        "#### What do you suggest the client to achieve Business Objective ?\n",
        "Explain Briefly."
      ]
    },
    {
      "cell_type": "markdown",
      "metadata": {
        "id": "gmRPxgbP8Wyn"
      },
      "source": [
        "#### 1. **Optimize Pricing Strategies**: Utilize insights from the analysis of ADR distribution to optimize pricing strategies, adjusting room rates based on demand patterns, seasonality, and customer preferences. This can help maximize revenue while ensuring competitiveness in the market.\n",
        "#### 2. **Enhance Customer Experience**: Leverage insights from the analysis of total special requests and total stay duration to enhance the guest experience. Implement proactive measures to address guest needs and preferences, such as personalized amenities, efficient check-in/check-out processes, and tailored services.\n",
        "#### 3. **Diversify Dining Options**: Based on insights from the analysis of meal type distribution, diversify dining options to cater to a wider range of customer preferences. Introduce new menu offerings, dining packages, and promotional offers to attract customers and enhance satisfaction.\n",
        "#### 4. **Improve Marketing Strategies**: Utilize insights from the analysis of market segment distribution to tailor marketing strategies and promotional campaigns to specific customer segments. Implement targeted marketing initiatives through appropriate channels to reach and engage with different customer segments effectively.\n",
        "#### 5. **Optimize Booking Processes**: Streamline booking processes and enhance booking flexibility based on insights from the analysis of booking changes distribution. Implement user-friendly booking interfaces, flexible cancellation policies, and dynamic booking options to improve customer satisfaction and increase booking conversion rates."
      ]
    },
    {
      "cell_type": "markdown",
      "metadata": {
        "id": "gCX9965dhzqZ"
      },
      "source": [
        "# **Conclusion**"
      ]
    },
    {
      "cell_type": "markdown",
      "metadata": {
        "id": "Fjb1IsQkh3yE"
      },
      "source": [
        "**In conclusion, by leveraging the insights gained from the exploratory data analysis and visualization techniques, the client can make data-driven decisions to optimize operations, enhance customer satisfaction, and maximize revenue. By focusing on pricing optimization, customer experience enhancement, diversification of dining options, improvement of marketing strategies, and optimization of booking processes, the client can achieve their business objectives effectively and position themselves competitively in the hospitality industry.**"
      ]
    },
    {
      "cell_type": "markdown",
      "metadata": {
        "id": "gIfDvo9L0UH2"
      },
      "source": [
        "### ***Hurrah! You have successfully completed your EDA Capstone Project !!!***"
      ]
    }
  ],
  "metadata": {
    "colab": {
      "collapsed_sections": [
        "mDgbUHAGgjLW",
        "Y3lxredqlCYt",
        "8G2x9gOozGDZ",
        "gIfDvo9L0UH2"
      ],
      "private_outputs": true,
      "provenance": []
    },
    "kernelspec": {
      "display_name": ".venv",
      "language": "python",
      "name": "python3"
    },
    "language_info": {
      "codemirror_mode": {
        "name": "ipython",
        "version": 3
      },
      "file_extension": ".py",
      "mimetype": "text/x-python",
      "name": "python",
      "nbconvert_exporter": "python",
      "pygments_lexer": "ipython3",
      "version": "3.12.8"
    }
  },
  "nbformat": 4,
  "nbformat_minor": 0
}